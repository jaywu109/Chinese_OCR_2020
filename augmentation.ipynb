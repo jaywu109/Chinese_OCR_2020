{
 "cells": [
  {
   "cell_type": "code",
   "execution_count": 1,
   "id": "096051f0",
   "metadata": {},
   "outputs": [],
   "source": [
    "import cv2\n",
    "import os\n",
    "import time\n",
    "import imutils\n",
    "import random\n",
    "import numpy as np\n",
    "from skimage import io as iio\n",
    "from tqdm import tqdm\n",
    "import random\n",
    "import shutil\n",
    "\n",
    "def add_noise(src, num):\n",
    "    img = src.copy()\n",
    "    (h, w) = img.shape[:2]\n",
    "    for i in range(num):\n",
    "       x = np.random.randint(1, h-1)\n",
    "       y = np.random.randint(1, w-1)\n",
    "       img[x-1:x+1, y-1:y+1] = 0\n",
    "    return img\n",
    "\n",
    "def dilate(src, shape, dilation_size):\n",
    "    element = cv2.getStructuringElement(shape, (dilation_size, dilation_size))\n",
    "    result = cv2.erode(src, element) # Note: The font color is black, so we use erode instead.\n",
    "    return result\n",
    "\n",
    "def erode(src, shape, erosion_size):\n",
    "    element = cv2.getStructuringElement(shape, (erosion_size, erosion_size))\n",
    "    result = cv2.dilate(src, element) # Note: The font color is black, so we use dilate instead.\n",
    "    return result\n",
    "\n",
    "\n"
   ]
  },
  {
   "cell_type": "code",
   "execution_count": 2,
   "id": "20559c5b",
   "metadata": {},
   "outputs": [],
   "source": [
    "# input_dir = 'C:/Users/bbb50/Desktop/Python/OCR/font_create_ood'\n",
    "# output_dir = 'C:/Users/bbb50/Desktop/Python/OCR/ai_free_od_20'"
   ]
  },
  {
   "cell_type": "code",
   "execution_count": 3,
   "id": "e8006d86",
   "metadata": {},
   "outputs": [],
   "source": [
    "# n = 61325\n",
    "# for char in tqdm(os.listdir(input_dir)):\n",
    "#     sub_dir = os.path.join(input_dir, char)\n",
    "#     for img in os.listdir(sub_dir):\n",
    "#         src = os.path.join(sub_dir, img)\n",
    "#         dst = os.path.join(output_dir, str(n)+'.png')\n",
    "#         os.rename(src, dst)\n",
    "#         n += 1"
   ]
  },
  {
   "cell_type": "code",
   "execution_count": 4,
   "id": "dec5da62",
   "metadata": {},
   "outputs": [
    {
     "data": {
      "text/plain": [
       "61325"
      ]
     },
     "execution_count": 4,
     "metadata": {},
     "output_type": "execute_result"
    }
   ],
   "source": [
    "n = 61325"
   ]
  },
  {
   "cell_type": "code",
   "execution_count": null,
   "id": "277f0948",
   "metadata": {},
   "outputs": [],
   "source": []
  },
  {
   "cell_type": "code",
   "execution_count": 15,
   "id": "c18095ab",
   "metadata": {},
   "outputs": [],
   "source": [
    "input_dir = 'C:/Users/bbb50/Desktop/Python/t_brain_new_gray_augmented/t_brain_new_gray_augmented/val'\n",
    "output_dir = 'C:/Users/bbb50/Desktop/Python/t_brain_new_gray_augmented/t_brain_new_gray_augmented/test'\n",
    "new_width = 224\n",
    "new_height = 224\n",
    "dilation_ksize = 5\n",
    "erosion_ksize = 5\n",
    "src_tri = np.array([[27.5,27.5], [110.0,27.5], [27.5,110.0]]).astype(np.float32)\n",
    "dst_tri = np.array([[5.5,55.0], [110.0,27.5], [5.5,137.5]]).astype(np.float32)\n",
    "sample_size_per_dir = 800000\n",
    "nChars = 800\n"
   ]
  },
  {
   "cell_type": "code",
   "execution_count": 9,
   "id": "a799fb34",
   "metadata": {},
   "outputs": [
    {
     "name": "stdout",
     "output_type": "stream",
     "text": [
      "C:/Users/bbb50/Desktop/Python/t_brain_new_gray_augmented/t_brain_new_gray_augmented/val\\0_宋\\0.png\n",
      "C:/Users/bbb50/Desktop/Python/t_brain_new_gray_augmented/t_brain_new_gray_augmented/val\\0_宋\\1.png\n",
      "C:/Users/bbb50/Desktop/Python/t_brain_new_gray_augmented/t_brain_new_gray_augmented/val\\0_宋\\2.png\n",
      "C:/Users/bbb50/Desktop/Python/t_brain_new_gray_augmented/t_brain_new_gray_augmented/val\\0_宋\\3.png\n",
      "C:/Users/bbb50/Desktop/Python/t_brain_new_gray_augmented/t_brain_new_gray_augmented/val\\0_宋\\4.png\n"
     ]
    }
   ],
   "source": [
    "# char = os.listdir(input_dir)[0]\n",
    "# images = []\n",
    "# sub_dir = os.path.join(input_dir, char)\n",
    "# for i in os.listdir(sub_dir):\n",
    "#     image_name_abs = os.path.join(sub_dir, i)\n",
    "# #         image = iio.imread(image_name_abs)\n",
    "#     print(image_name_abs)"
   ]
  },
  {
   "cell_type": "code",
   "execution_count": 5,
   "id": "b1743e06",
   "metadata": {},
   "outputs": [],
   "source": [
    "image_name_abs = 'C:/Users/bbb50/Desktop/Python/t_brain_new_gray_augmented/t_brain_new_gray_augmented/val\\\\15_川\\\\2.png'"
   ]
  },
  {
   "cell_type": "code",
   "execution_count": null,
   "id": "b48e70cf",
   "metadata": {},
   "outputs": [],
   "source": [
    "for i, img in enumerate(images):\n",
    "    output_filename = os.path.join(output_dir, char , str(n)+ '.png' )\n",
    "    stat = cv2.imwrite(output_filename, img)\n",
    "    n += 1                               \n",
    "    if stat is False:\n",
    "        print(\"Failed to write image %s\" % output_filename)"
   ]
  },
  {
   "cell_type": "code",
   "execution_count": null,
   "id": "190ecf8b",
   "metadata": {},
   "outputs": [],
   "source": []
  },
  {
   "cell_type": "code",
   "execution_count": null,
   "id": "15e06c19",
   "metadata": {},
   "outputs": [],
   "source": [
    "\n",
    "            output_filename = os.path.join(output_dir, char , str(n)+ '.png' )\n",
    "            cv2.imencode('.png', img)[1].tofile(output_filename)"
   ]
  },
  {
   "cell_type": "code",
   "execution_count": 18,
   "id": "7ad80070",
   "metadata": {},
   "outputs": [
    {
     "name": "stderr",
     "output_type": "stream",
     "text": [
      " 97%|█████████████████████████████████████████████████████████████████████████████▊  | 778/800 [01:57<00:03,  6.61it/s]\n"
     ]
    },
    {
     "ename": "FileNotFoundError",
     "evalue": "[Errno 2] No such file or directory: 'C:/Users/bbb50/Desktop/Python/t_brain_new_gray_augmented/t_brain_new_gray_augmented/test\\\\800_isnull\\\\0.png'",
     "output_type": "error",
     "traceback": [
      "\u001b[1;31m---------------------------------------------------------------------------\u001b[0m",
      "\u001b[1;31mFileNotFoundError\u001b[0m                         Traceback (most recent call last)",
      "\u001b[1;32m<ipython-input-18-65e154a4e9f4>\u001b[0m in \u001b[0;36m<module>\u001b[1;34m\u001b[0m\n\u001b[0;32m     91\u001b[0m         \u001b[1;32mfor\u001b[0m \u001b[0mi\u001b[0m\u001b[1;33m,\u001b[0m \u001b[0mimg\u001b[0m \u001b[1;32min\u001b[0m \u001b[0menumerate\u001b[0m\u001b[1;33m(\u001b[0m\u001b[0mimages\u001b[0m\u001b[1;33m)\u001b[0m\u001b[1;33m:\u001b[0m\u001b[1;33m\u001b[0m\u001b[1;33m\u001b[0m\u001b[0m\n\u001b[0;32m     92\u001b[0m             \u001b[0moutput_filename\u001b[0m \u001b[1;33m=\u001b[0m \u001b[0mos\u001b[0m\u001b[1;33m.\u001b[0m\u001b[0mpath\u001b[0m\u001b[1;33m.\u001b[0m\u001b[0mjoin\u001b[0m\u001b[1;33m(\u001b[0m\u001b[0moutput_dir\u001b[0m\u001b[1;33m,\u001b[0m \u001b[0mchar\u001b[0m \u001b[1;33m,\u001b[0m \u001b[0mstr\u001b[0m\u001b[1;33m(\u001b[0m\u001b[0mn\u001b[0m\u001b[1;33m)\u001b[0m\u001b[1;33m+\u001b[0m \u001b[1;34m'.png'\u001b[0m \u001b[1;33m)\u001b[0m\u001b[1;33m\u001b[0m\u001b[1;33m\u001b[0m\u001b[0m\n\u001b[1;32m---> 93\u001b[1;33m             \u001b[0mcv2\u001b[0m\u001b[1;33m.\u001b[0m\u001b[0mimencode\u001b[0m\u001b[1;33m(\u001b[0m\u001b[1;34m'.png'\u001b[0m\u001b[1;33m,\u001b[0m \u001b[0mimg\u001b[0m\u001b[1;33m)\u001b[0m\u001b[1;33m[\u001b[0m\u001b[1;36m1\u001b[0m\u001b[1;33m]\u001b[0m\u001b[1;33m.\u001b[0m\u001b[0mtofile\u001b[0m\u001b[1;33m(\u001b[0m\u001b[0moutput_filename\u001b[0m\u001b[1;33m)\u001b[0m\u001b[1;33m\u001b[0m\u001b[1;33m\u001b[0m\u001b[0m\n\u001b[0m\u001b[0;32m     94\u001b[0m \u001b[1;33m\u001b[0m\u001b[0m\n\u001b[0;32m     95\u001b[0m             \u001b[0mn\u001b[0m \u001b[1;33m+=\u001b[0m \u001b[1;36m1\u001b[0m\u001b[1;33m\u001b[0m\u001b[1;33m\u001b[0m\u001b[0m\n",
      "\u001b[1;31mFileNotFoundError\u001b[0m: [Errno 2] No such file or directory: 'C:/Users/bbb50/Desktop/Python/t_brain_new_gray_augmented/t_brain_new_gray_augmented/test\\\\800_isnull\\\\0.png'"
     ]
    }
   ],
   "source": [
    "\n",
    "\n",
    "for char in tqdm(sorted(os.listdir(input_dir))):\n",
    "    n = 0\n",
    "    images = []\n",
    "    sub_dir = os.path.join(input_dir, char)\n",
    "    for i in os.listdir(sub_dir):\n",
    "        image_name_abs = os.path.join(sub_dir, i)\n",
    "        image = iio.imread(image_name_abs)\n",
    "        if len(list(image.shape)) != 3:\n",
    "            image = cv2.imdecode(np.fromfile(file=image_name_abs, dtype=np.uint8), cv2.IMREAD_COLOR)\n",
    "        # Try cv2.imread() if iio.imread fails\n",
    "        # image = cv2.imread(image_name_abs, cv2.IMREAD_GRAYSCALE)\n",
    "        if image is None:\n",
    "            print(\"Unable to read image %s\" % image_name_abs)\n",
    "            exit()\n",
    "\n",
    "        # Converts the input image to the desired size\n",
    "        h, w, c = image.shape\n",
    "        if c == 3:\n",
    "            image = cv2.cvtColor(image, cv2.COLOR_BGR2GRAY)\n",
    "        if w != new_width or h != new_height:\n",
    "            image = cv2.resize(image, (new_width, new_height))\n",
    "\n",
    "        # Original image\n",
    "        images.append(image)\n",
    "\n",
    "        # Rotation\n",
    "        for angle in np.arange(6, 13, 6):\n",
    "            inverted = cv2.bitwise_not(image)\n",
    "            # CCW\n",
    "            rotated = cv2.bitwise_not(imutils.rotate(inverted, angle))\n",
    "            images.append(rotated)\n",
    "\n",
    "            # CW\n",
    "            rotated = cv2.bitwise_not(imutils.rotate(inverted, 360 - angle))\n",
    "            images.append(rotated)\n",
    "\n",
    "        # Dilation\n",
    "        dilated = dilate(image, cv2.MORPH_CROSS, dilation_ksize)\n",
    "        images.append(dilated)\n",
    "\n",
    "        # Erosion\n",
    "        if erosion_ksize != 0:\n",
    "            eroded = erode(image, cv2.MORPH_CROSS, erosion_ksize)\n",
    "            images.append(eroded)\n",
    "\n",
    "        # Adds noises to the original image\n",
    "        noised = add_noise(image, 50)\n",
    "        images.append(noised)\n",
    "\n",
    "        # Adds noises to the dilated/eroded images\n",
    "        dilated_noised = add_noise(dilated, 50)\n",
    "        if erosion_ksize != 0:\n",
    "            eroded_noised = add_noise(eroded, 50)\n",
    "\n",
    "        # Transformation\n",
    "        warp_mat = cv2.getAffineTransform(src_tri, dst_tri)\n",
    "        transformed = cv2.warpAffine(image, warp_mat, (image.shape[1], image.shape[0]), borderValue=(255,255,255))\n",
    "        images.append(transformed)\n",
    "\n",
    "        # Transforms the dilated image\n",
    "        dilated_transformed = cv2.warpAffine(dilated, warp_mat, (image.shape[1], image.shape[0]), borderValue=(255,255,255))\n",
    "        images.append(dilated_transformed)\n",
    "\n",
    "        # Transforms the eroded image\n",
    "        if erosion_ksize != 0:\n",
    "            eroded_transformed = cv2.warpAffine(eroded, warp_mat, (image.shape[1], image.shape[0]), borderValue=(255,255,255))\n",
    "            images.append(eroded_transformed)\n",
    "\n",
    "        # Transforms the dilated-noised/eroded-noised images\n",
    "        dilated_noised_transformed = cv2.warpAffine(dilated_noised, warp_mat, (image.shape[1], image.shape[0]), borderValue=(255,255,255))\n",
    "        if erosion_ksize != 0:\n",
    "            eroded_noised_transformed = cv2.warpAffine(eroded_noised, warp_mat, (image.shape[1], image.shape[0]), borderValue=(255,255,255))\n",
    "\n",
    "        # Blurs the input image\n",
    "        blurred = cv2.GaussianBlur(image, (5,5), 0)\n",
    "        images.append(blurred)\n",
    "\n",
    "        # Blurs the noised image\n",
    "        noised_blurred = cv2.GaussianBlur(noised, (5,5), 0)\n",
    "        images.append(noised_blurred)\n",
    "\n",
    "        # Blurs the dilated, noised, transformed image\n",
    "        dilated_noised_transformed_blurred = cv2.GaussianBlur(dilated_noised_transformed, (5,5), 0)\n",
    "        images.append(dilated_noised_transformed_blurred)\n",
    "\n",
    "        # Blurs the eroded, noised, transformed image\n",
    "        if erosion_ksize != 0:\n",
    "            eroded_noised_transformed_blurred = cv2.GaussianBlur(eroded_noised_transformed, (5,5), 0)\n",
    "            images.append(eroded_noised_transformed_blurred)\n",
    "\n",
    "        for i, img in enumerate(images):\n",
    "            output_filename = os.path.join(output_dir, char , str(n)+ '.png' )\n",
    "            cv2.imencode('.png', img)[1].tofile(output_filename)\n",
    "\n",
    "            n += 1                               \n"
   ]
  },
  {
   "cell_type": "code",
   "execution_count": 17,
   "id": "b8163bf1",
   "metadata": {},
   "outputs": [
    {
     "data": {
      "text/plain": [
       "[array([[255, 255, 255, ..., 255, 255, 255],\n",
       "        [255, 255, 255, ..., 255, 255, 255],\n",
       "        [255, 255, 255, ..., 255, 255, 255],\n",
       "        ...,\n",
       "        [255, 255, 255, ..., 255, 255, 255],\n",
       "        [255, 255, 255, ..., 255, 255, 255],\n",
       "        [255, 255, 255, ..., 255, 255, 255]], dtype=uint8),\n",
       " array([[255, 255, 255, ..., 255, 255, 255],\n",
       "        [255, 255, 255, ..., 255, 255, 255],\n",
       "        [255, 255, 255, ..., 255, 255, 255],\n",
       "        ...,\n",
       "        [255, 255, 255, ..., 255, 255, 255],\n",
       "        [255, 255, 255, ..., 255, 255, 255],\n",
       "        [255, 255, 255, ..., 255, 255, 255]], dtype=uint8),\n",
       " array([[255, 255, 255, ..., 255, 255, 255],\n",
       "        [255, 255, 255, ..., 255, 255, 255],\n",
       "        [255, 255, 255, ..., 255, 255, 255],\n",
       "        ...,\n",
       "        [255, 255, 255, ..., 255, 255, 255],\n",
       "        [255, 255, 255, ..., 255, 255, 255],\n",
       "        [255, 255, 255, ..., 255, 255, 255]], dtype=uint8),\n",
       " array([[255, 255, 255, ..., 255, 255, 255],\n",
       "        [255, 255, 255, ..., 255, 255, 255],\n",
       "        [255, 255, 255, ..., 255, 255, 255],\n",
       "        ...,\n",
       "        [255, 255, 255, ..., 255, 255, 255],\n",
       "        [255, 255, 255, ..., 255, 255, 255],\n",
       "        [255, 255, 255, ..., 255, 255, 255]], dtype=uint8),\n",
       " array([[255, 255, 255, ..., 255, 255, 255],\n",
       "        [255, 255, 255, ..., 255, 255, 255],\n",
       "        [255, 255, 255, ..., 255, 255, 255],\n",
       "        ...,\n",
       "        [255, 255, 255, ..., 255, 255, 255],\n",
       "        [255, 255, 255, ..., 255, 255, 255],\n",
       "        [255, 255, 255, ..., 255, 255, 255]], dtype=uint8),\n",
       " array([[255, 255, 255, ..., 255, 255, 255],\n",
       "        [255, 255, 255, ..., 255, 255, 255],\n",
       "        [255, 255, 255, ..., 255, 255, 255],\n",
       "        ...,\n",
       "        [255, 255, 255, ..., 255, 255, 255],\n",
       "        [255, 255, 255, ..., 255, 255, 255],\n",
       "        [255, 255, 255, ..., 255, 255, 255]], dtype=uint8),\n",
       " array([[255, 255, 255, ..., 255, 255, 255],\n",
       "        [255, 255, 255, ..., 255, 255, 255],\n",
       "        [255, 255, 255, ..., 255, 255, 255],\n",
       "        ...,\n",
       "        [255, 255, 255, ..., 255, 255, 255],\n",
       "        [255, 255, 255, ..., 255, 255, 255],\n",
       "        [255, 255, 255, ..., 255, 255, 255]], dtype=uint8),\n",
       " array([[255, 255, 255, ..., 255, 255, 255],\n",
       "        [255, 255, 255, ..., 255, 255, 255],\n",
       "        [255, 255, 255, ..., 255, 255, 255],\n",
       "        ...,\n",
       "        [255, 255, 255, ..., 255, 255, 255],\n",
       "        [255, 255, 255, ..., 255, 255, 255],\n",
       "        [255, 255, 255, ..., 255, 255, 255]], dtype=uint8),\n",
       " array([[255, 255, 255, ..., 255, 255, 255],\n",
       "        [255, 255, 255, ..., 255, 255, 255],\n",
       "        [255, 255, 255, ..., 255, 255, 255],\n",
       "        ...,\n",
       "        [255, 255, 255, ..., 255, 255, 255],\n",
       "        [255, 255, 255, ..., 255, 255, 255],\n",
       "        [255, 255, 255, ..., 255, 255, 255]], dtype=uint8),\n",
       " array([[255, 255, 255, ..., 255, 255, 255],\n",
       "        [255, 255, 255, ..., 255, 255, 255],\n",
       "        [255, 255, 255, ..., 255, 255, 255],\n",
       "        ...,\n",
       "        [255, 255, 255, ..., 255, 255, 255],\n",
       "        [255, 255, 255, ..., 255, 255, 255],\n",
       "        [255, 255, 255, ..., 255, 255, 255]], dtype=uint8),\n",
       " array([[255, 255, 255, ..., 255, 255, 255],\n",
       "        [255, 255, 255, ..., 255, 255, 255],\n",
       "        [255, 255, 255, ..., 255, 255, 255],\n",
       "        ...,\n",
       "        [255, 255, 255, ..., 255, 255, 255],\n",
       "        [255, 255, 255, ..., 255, 255, 255],\n",
       "        [255, 255, 255, ..., 255, 255, 255]], dtype=uint8),\n",
       " array([[255, 255, 255, ..., 255, 255, 255],\n",
       "        [255, 255, 255, ..., 255, 255, 255],\n",
       "        [255, 255, 255, ..., 255, 255, 255],\n",
       "        ...,\n",
       "        [255, 255, 255, ..., 255, 255, 255],\n",
       "        [255, 255, 255, ..., 255, 255, 255],\n",
       "        [255, 255, 255, ..., 255, 255, 255]], dtype=uint8),\n",
       " array([[255, 255, 255, ..., 255, 255, 255],\n",
       "        [255, 255, 255, ..., 255, 255, 255],\n",
       "        [255, 255, 255, ..., 255, 255, 255],\n",
       "        ...,\n",
       "        [255, 255, 255, ..., 255, 255, 255],\n",
       "        [255, 255, 255, ..., 255, 255, 255],\n",
       "        [255, 255, 255, ..., 255, 255, 255]], dtype=uint8),\n",
       " array([[255, 255, 255, ..., 255, 255, 255],\n",
       "        [255, 255, 255, ..., 255, 255, 255],\n",
       "        [255, 255, 255, ..., 255, 255, 255],\n",
       "        ...,\n",
       "        [222, 231, 244, ..., 255, 255, 255],\n",
       "        [250, 252, 254, ..., 255, 255, 255],\n",
       "        [255, 255, 255, ..., 255, 255, 255]], dtype=uint8),\n",
       " array([[255, 255, 255, ..., 255, 255, 255],\n",
       "        [255, 255, 255, ..., 255, 255, 255],\n",
       "        [255, 255, 255, ..., 255, 255, 255],\n",
       "        ...,\n",
       "        [255, 255, 255, ..., 255, 255, 255],\n",
       "        [255, 255, 255, ..., 255, 255, 255],\n",
       "        [255, 255, 255, ..., 255, 255, 255]], dtype=uint8),\n",
       " array([[255, 255, 255, ..., 255, 255, 255],\n",
       "        [255, 255, 255, ..., 255, 255, 255],\n",
       "        [255, 255, 255, ..., 255, 255, 255],\n",
       "        ...,\n",
       "        [255, 255, 255, ..., 255, 255, 255],\n",
       "        [255, 255, 255, ..., 255, 255, 255],\n",
       "        [255, 255, 255, ..., 255, 255, 255]], dtype=uint8),\n",
       " array([[255, 255, 255, ..., 255, 255, 255],\n",
       "        [255, 255, 255, ..., 255, 255, 255],\n",
       "        [255, 255, 255, ..., 255, 255, 255],\n",
       "        ...,\n",
       "        [255, 255, 255, ..., 255, 255, 255],\n",
       "        [255, 255, 255, ..., 255, 255, 255],\n",
       "        [255, 255, 255, ..., 255, 255, 255]], dtype=uint8),\n",
       " array([[255, 255, 255, ..., 255, 255, 255],\n",
       "        [255, 255, 255, ..., 255, 255, 255],\n",
       "        [255, 255, 255, ..., 255, 255, 255],\n",
       "        ...,\n",
       "        [255, 255, 255, ..., 255, 255, 255],\n",
       "        [255, 255, 255, ..., 255, 255, 255],\n",
       "        [255, 255, 255, ..., 255, 255, 255]], dtype=uint8),\n",
       " array([[255, 255, 255, ..., 255, 255, 255],\n",
       "        [255, 255, 255, ..., 255, 255, 255],\n",
       "        [255, 255, 255, ..., 255, 255, 255],\n",
       "        ...,\n",
       "        [255, 255, 255, ..., 255, 255, 255],\n",
       "        [255, 255, 255, ..., 255, 255, 255],\n",
       "        [255, 255, 255, ..., 255, 255, 255]], dtype=uint8),\n",
       " array([[255, 255, 255, ..., 255, 255, 255],\n",
       "        [255, 255, 255, ..., 255, 255, 255],\n",
       "        [255, 255, 255, ..., 255, 255, 255],\n",
       "        ...,\n",
       "        [255, 255, 255, ..., 255, 255, 255],\n",
       "        [255, 255, 255, ..., 255, 255, 255],\n",
       "        [255, 255, 255, ..., 255, 255, 255]], dtype=uint8),\n",
       " array([[255, 255, 255, ..., 255, 255, 255],\n",
       "        [255, 255, 255, ..., 255, 255, 255],\n",
       "        [255, 255, 255, ..., 255, 255, 255],\n",
       "        ...,\n",
       "        [255, 255, 255, ..., 255, 255, 255],\n",
       "        [255, 255, 255, ..., 255, 255, 255],\n",
       "        [255, 255, 255, ..., 255, 255, 255]], dtype=uint8)]"
      ]
     },
     "execution_count": 17,
     "metadata": {},
     "output_type": "execute_result"
    }
   ],
   "source": [
    "images"
   ]
  },
  {
   "cell_type": "code",
   "execution_count": 27,
   "id": "403d1ae9",
   "metadata": {},
   "outputs": [],
   "source": [
    "tar_dir = 'C:/Users/bbb50/Desktop/Python/OCR/ai_free_od_20_aug'"
   ]
  },
  {
   "cell_type": "code",
   "execution_count": 28,
   "id": "46c1c1f0",
   "metadata": {},
   "outputs": [],
   "source": [
    "dst_dir = 'C:/Users/bbb50/Desktop/Python/OCR/ai_free_od_20_aug_train'"
   ]
  },
  {
   "cell_type": "code",
   "execution_count": 32,
   "id": "81676dcf",
   "metadata": {},
   "outputs": [
    {
     "name": "stderr",
     "output_type": "stream",
     "text": [
      "100%|████████████████████████████████████████████████████████████████████████| 854120/854120 [11:21<00:00, 1254.20it/s]\n"
     ]
    }
   ],
   "source": [
    "sample_list = random.sample(os.listdir(tar_dir), 854120)\n",
    "n = 0\n",
    "for i in tqdm(sample_list):\n",
    "    src = os.path.join(tar_dir, i)\n",
    "    dst = os.path.join(dst_dir, str(n)+'.png')\n",
    "    os.rename(src, dst)\n",
    "    n += 1"
   ]
  },
  {
   "cell_type": "code",
   "execution_count": null,
   "id": "7173ece8",
   "metadata": {},
   "outputs": [],
   "source": [
    "854120"
   ]
  },
  {
   "cell_type": "code",
   "execution_count": 18,
   "id": "a7aaf918",
   "metadata": {},
   "outputs": [],
   "source": [
    "n = 0\n",
    "for char in os.listdir(tar_dir):\n",
    "    sub_dir = os.path.join(tar_dir, char)\n",
    "    n += len(os.listdir(sub_dir))"
   ]
  },
  {
   "cell_type": "code",
   "execution_count": null,
   "id": "1910465a",
   "metadata": {},
   "outputs": [],
   "source": []
  },
  {
   "cell_type": "code",
   "execution_count": 2,
   "id": "77cefc71",
   "metadata": {},
   "outputs": [],
   "source": [
    "src_dir = 'C:/Users/bbb50/Desktop/Python/OCR/ai_free_od_augmentation_train/ai_free_od_augmentation_train'\n",
    "dst_dir = 'C:/Users/bbb50/Desktop/Python/OCR/ai_free_od_augmentation_train/ai_free_od_augmentation_train_2'"
   ]
  },
  {
   "cell_type": "code",
   "execution_count": 3,
   "id": "f1cb2027",
   "metadata": {
    "scrolled": true
   },
   "outputs": [
    {
     "name": "stderr",
     "output_type": "stream",
     "text": [
      "100%|████████████████████████████████████████████████████████████████████████| 548721/548721 [05:03<00:00, 1806.07it/s]\n"
     ]
    }
   ],
   "source": [
    "\n",
    "n = 0\n",
    "for name in tqdm(os.listdir(src_dir)):    \n",
    "    src = os.path.join(src_dir, name)\n",
    "    dst = os.path.join(dst_dir, str(n)+'.png')\n",
    "    os.rename(src, dst)\n",
    "    n += 1"
   ]
  },
  {
   "cell_type": "code",
   "execution_count": null,
   "id": "058d0d5b",
   "metadata": {},
   "outputs": [],
   "source": []
  },
  {
   "cell_type": "code",
   "execution_count": null,
   "id": "30cfc96c",
   "metadata": {},
   "outputs": [],
   "source": []
  },
  {
   "cell_type": "code",
   "execution_count": 11,
   "id": "918ccbcb",
   "metadata": {},
   "outputs": [],
   "source": [
    "tar_dir = 'C:/Users/bbb50/Desktop/Python/OCR/ai_free_od_augmentation_train/ai_free_od_augmentation_train_2'"
   ]
  },
  {
   "cell_type": "code",
   "execution_count": 12,
   "id": "b4157147",
   "metadata": {},
   "outputs": [],
   "source": [
    "img_amount = len(os.listdir(tar_dir))"
   ]
  },
  {
   "cell_type": "code",
   "execution_count": 13,
   "id": "e56fca74",
   "metadata": {},
   "outputs": [],
   "source": [
    "dif = 854120 - img_amount"
   ]
  },
  {
   "cell_type": "code",
   "execution_count": 14,
   "id": "5d1cb457",
   "metadata": {},
   "outputs": [],
   "source": [
    "n = img_amount"
   ]
  },
  {
   "cell_type": "code",
   "execution_count": 15,
   "id": "09bccfef",
   "metadata": {},
   "outputs": [],
   "source": [
    "sample_list = random.sample(range(len(os.listdir(tar_dir))), dif)"
   ]
  },
  {
   "cell_type": "code",
   "execution_count": 16,
   "id": "299e9fa7",
   "metadata": {},
   "outputs": [
    {
     "name": "stderr",
     "output_type": "stream",
     "text": [
      "100%|█████████████████████████████████████████████████████████████████████████| 305399/305399 [05:46<00:00, 882.42it/s]\n"
     ]
    }
   ],
   "source": [
    "for i in tqdm(sample_list):\n",
    "    src = os.path.join(tar_dir, str(i) + '.png')\n",
    "    dst = os.path.join(tar_dir, str(n) + '.png')\n",
    "    shutil.copyfile(src, dst)\n",
    "    n += 1"
   ]
  }
 ],
 "metadata": {
  "kernelspec": {
   "display_name": "Python 3",
   "language": "python",
   "name": "python3"
  },
  "language_info": {
   "codemirror_mode": {
    "name": "ipython",
    "version": 3
   },
   "file_extension": ".py",
   "mimetype": "text/x-python",
   "name": "python",
   "nbconvert_exporter": "python",
   "pygments_lexer": "ipython3",
   "version": "3.8.8"
  }
 },
 "nbformat": 4,
 "nbformat_minor": 5
}
